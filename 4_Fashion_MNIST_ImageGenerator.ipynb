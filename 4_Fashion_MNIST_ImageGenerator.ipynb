{
 "cells": [
  {
   "cell_type": "markdown",
   "metadata": {
    "colab_type": "text",
    "id": "UncprnB0ymAE"
   },
   "source": [
    "Below is code with a link to a happy or sad dataset which contains 80 images, 40 happy and 40 sad. \n",
    "Create a convolutional neural network that trains to 100% accuracy on these images,  which cancels training upon hitting training accuracy of >.999\n",
    "\n",
    "Hint -- it will work best with 3 convolutional layers."
   ]
  },
  {
   "cell_type": "code",
   "execution_count": 1,
   "metadata": {},
   "outputs": [],
   "source": [
    "import tensorflow as tf\n",
    "import os\n",
    "import zipfile\n",
    "from os import path, getcwd, chdir\n",
    "\n",
    "# DO NOT CHANGE THE LINE BELOW. If you are developing in a local\n",
    "# environment, then grab happy-or-sad.zip from the Coursera Jupyter Notebook\n",
    "# and place it inside a local folder and edit the path to that location\n",
    "path = f\"{getcwd()}/../tmp2/happy-or-sad.zip\"\n",
    "\n",
    "zip_ref = zipfile.ZipFile(path, 'r')\n",
    "zip_ref.extractall(\"/tmp/h-or-s\")\n",
    "zip_ref.close()"
   ]
  },
  {
   "cell_type": "code",
   "execution_count": 11,
   "metadata": {},
   "outputs": [],
   "source": [
    "# GRADED FUNCTION: train_happy_sad_model\n",
    "def train_happy_sad_model():\n",
    "    # Please write your code only where you are indicated.\n",
    "    # please do not remove # model fitting inline comments.\n",
    "\n",
    "    DESIRED_ACCURACY = 0.999\n",
    "    \n",
    "    class myCallback(tf.keras.callbacks.Callback):\n",
    "        def on_epoch_end(self, epoch, logs={}):\n",
    "            if(logs.get('acc')>DESIRED_ACCURACY):\n",
    "                print('\\nReached 99.9% accuracy so cancelling training!')\n",
    "                self.model.stop_training = True\n",
    "    \n",
    "    callbacks = myCallback()\n",
    "    \n",
    "    # This Code Block should Define and Compile the Model. Please assume the images are 150 X 150 in your implementation.\n",
    "    model = tf.keras.models.Sequential([\n",
    "        \n",
    "        # Start with the first convolution\n",
    "        tf.keras.layers.Conv2D(64, 3, activation='relu', padding='same',\n",
    "                               input_shape=[150, 150, 3]),\n",
    "        tf.keras.layers.MaxPooling2D(2),\n",
    "        # the second convolution\n",
    "        tf.keras.layers.Conv2D(128, 3, activation='relu', padding='same'),\n",
    "        tf.keras.layers.MaxPooling2D(2),\n",
    "        # the third convolution\n",
    "        tf.keras.layers.Conv2D(256, 3, activation='relu', padding='same'),\n",
    "        tf.keras.layers.MaxPooling2D(2),\n",
    "        # Flatten the result to feed into a DNN\n",
    "        tf.keras.layers.Flatten(),\n",
    "        tf.keras.layers.Dense(128, activation='relu'),\n",
    "        # Only 1 output neuron. It will contain a value from 0-1 where 0 for class('sad') and 1 for class('happy')\n",
    "        tf.keras.layers.Dense(1, activation = 'sigmoid')\n",
    "    ])\n",
    "        \n",
    "        # Your Code Here\n",
    "    from tensorflow.keras.optimizers import RMSprop\n",
    "    \n",
    "    model.compile(loss = 'binary_crossentropy',\n",
    "                 optimizer = RMSprop(lr=0.001, rho=0.9),\n",
    "                 metrics = ['accuracy'])\n",
    "    \n",
    "    model.summary()      \n",
    "\n",
    "    # This code block should create an instance of an ImageDataGenerator called train_datagen \n",
    "    # And a train_generator by calling train_datagen.flow_from_directory\n",
    "    \n",
    "    # Your Code Here\n",
    "    \n",
    "    # Expected output: 'Found 80 images belonging to 2 classes'\n",
    "\n",
    "    # This code block should call model.fit_generator and train for\n",
    "    # a number of epochs.\n",
    "    # model fitting\n",
    "    \n",
    "    from tensorflow.keras.preprocessing.image import ImageDataGenerator\n",
    "    \n",
    "    train_datagen = ImageDataGenerator(rescale = 1/255)\n",
    "    \n",
    "    train_generator = train_datagen.flow_from_directory(\n",
    "        '/tmp/h-or-s/',\n",
    "        target_size=[150, 150],\n",
    "        batch_size=128,\n",
    "        class_mode='binary')\n",
    "\n",
    "    # Please use a target_size of 150 X 150.\n",
    "    history = model.fit_generator(\n",
    "        train_generator,\n",
    "        steps_per_epoch = 8,\n",
    "        epochs = 15,\n",
    "        verbose = 1,\n",
    "        callbacks =[callbacks])\n",
    "\n",
    "    # Your Code Here)\n",
    "   \n",
    "    # Your Code Here\n",
    "    # model fitting\n",
    "    return history.history['acc'][-1]\n"
   ]
  },
  {
   "cell_type": "code",
   "execution_count": 12,
   "metadata": {},
   "outputs": [
    {
     "name": "stdout",
     "output_type": "stream",
     "text": [
      "Model: \"sequential_1\"\n",
      "_________________________________________________________________\n",
      "Layer (type)                 Output Shape              Param #   \n",
      "=================================================================\n",
      "conv2d_6 (Conv2D)            (None, 150, 150, 64)      1792      \n",
      "_________________________________________________________________\n",
      "max_pooling2d_6 (MaxPooling2 (None, 75, 75, 64)        0         \n",
      "_________________________________________________________________\n",
      "conv2d_7 (Conv2D)            (None, 75, 75, 128)       73856     \n",
      "_________________________________________________________________\n",
      "max_pooling2d_7 (MaxPooling2 (None, 37, 37, 128)       0         \n",
      "_________________________________________________________________\n",
      "conv2d_8 (Conv2D)            (None, 37, 37, 256)       295168    \n",
      "_________________________________________________________________\n",
      "max_pooling2d_8 (MaxPooling2 (None, 18, 18, 256)       0         \n",
      "_________________________________________________________________\n",
      "flatten_2 (Flatten)          (None, 82944)             0         \n",
      "_________________________________________________________________\n",
      "dense_3 (Dense)              (None, 128)               10616960  \n",
      "_________________________________________________________________\n",
      "dense_4 (Dense)              (None, 1)                 129       \n",
      "=================================================================\n",
      "Total params: 10,987,905\n",
      "Trainable params: 10,987,905\n",
      "Non-trainable params: 0\n",
      "_________________________________________________________________\n",
      "Found 80 images belonging to 2 classes.\n",
      "Epoch 1/15\n",
      "8/8 [==============================] - 14s 2s/step - loss: 1.8050 - acc: 0.5625\n",
      "Epoch 2/15\n",
      "8/8 [==============================] - 5s 587ms/step - loss: 0.7007 - acc: 0.8594\n",
      "Epoch 3/15\n",
      "8/8 [==============================] - 3s 337ms/step - loss: 0.5107 - acc: 0.7750\n",
      "Epoch 4/15\n",
      "8/8 [==============================] - 4s 450ms/step - loss: 0.3936 - acc: 0.8609\n",
      "Epoch 5/15\n",
      "8/8 [==============================] - 3s 338ms/step - loss: 0.1165 - acc: 0.9703\n",
      "Epoch 6/15\n",
      "8/8 [==============================] - 3s 385ms/step - loss: 0.0498 - acc: 0.9859\n",
      "Epoch 7/15\n",
      "7/8 [=========================>....] - ETA: 0s - loss: 0.0123 - acc: 1.0000\n",
      "Reached 99.9% accuracy so cancelling training!\n",
      "8/8 [==============================] - 3s 338ms/step - loss: 0.0112 - acc: 1.0000\n"
     ]
    },
    {
     "data": {
      "text/plain": [
       "1.0"
      ]
     },
     "execution_count": 12,
     "metadata": {},
     "output_type": "execute_result"
    }
   ],
   "source": [
    "# The Expected output: \"Reached 99.9% accuracy so cancelling training!\"\"\n",
    "train_happy_sad_model()"
   ]
  },
  {
   "cell_type": "code",
   "execution_count": null,
   "metadata": {},
   "outputs": [],
   "source": [
    "# Now click the 'Submit Assignment' button above.\n",
    "# Once that is complete, please run the following two cells to save your work and close the notebook"
   ]
  },
  {
   "cell_type": "code",
   "execution_count": null,
   "metadata": {},
   "outputs": [],
   "source": [
    "%%javascript\n",
    "<!-- Save the notebook -->\n",
    "IPython.notebook.save_checkpoint();"
   ]
  },
  {
   "cell_type": "code",
   "execution_count": null,
   "metadata": {},
   "outputs": [],
   "source": [
    "%%javascript\n",
    "IPython.notebook.session.delete();\n",
    "window.onbeforeunload = null\n",
    "setTimeout(function() { window.close(); }, 1000);"
   ]
  }
 ],
 "metadata": {
  "coursera": {
   "course_slug": "introduction-tensorflow",
   "graded_item_id": "1kAlw",
   "launcher_item_id": "PNLYD"
  },
  "kernelspec": {
   "display_name": "Python 3",
   "language": "python",
   "name": "python3"
  },
  "language_info": {
   "codemirror_mode": {
    "name": "ipython",
    "version": 3
   },
   "file_extension": ".py",
   "mimetype": "text/x-python",
   "name": "python",
   "nbconvert_exporter": "python",
   "pygments_lexer": "ipython3",
   "version": "3.6.8"
  }
 },
 "nbformat": 4,
 "nbformat_minor": 1
}
