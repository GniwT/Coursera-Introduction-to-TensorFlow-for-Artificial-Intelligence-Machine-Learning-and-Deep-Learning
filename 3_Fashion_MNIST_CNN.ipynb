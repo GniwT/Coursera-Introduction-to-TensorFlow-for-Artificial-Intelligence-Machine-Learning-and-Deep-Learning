{
 "cells": [
  {
   "cell_type": "markdown",
   "metadata": {
    "colab_type": "text",
    "id": "iQjHqsmTAVLU"
   },
   "source": [
    "## Exercise 3\n",
    "In the videos you looked at how you would improve Fashion MNIST using Convolutions. For your exercise see if you can improve MNIST to 99.8% accuracy or more using only a single convolutional layer and a single MaxPooling 2D. You should stop training once the accuracy goes above this amount. It should happen in less than 20 epochs, so it's ok to hard code the number of epochs for training, but your training must end once it hits the above metric. If it doesn't, then you'll need to redesign your layers.\n",
    "\n",
    "I've started the code for you -- you need to finish it!\n",
    "\n",
    "When 99.8% accuracy has been hit, you should print out the string \"Reached 99.8% accuracy so cancelling training!\"\n"
   ]
  },
  {
   "cell_type": "code",
   "execution_count": 1,
   "metadata": {},
   "outputs": [],
   "source": [
    "import tensorflow as tf\n",
    "from os import path, getcwd, chdir\n",
    "\n",
    "# DO NOT CHANGE THE LINE BELOW. If you are developing in a local\n",
    "# environment, then grab mnist.npz from the Coursera Jupyter Notebook\n",
    "# and place it inside a local folder and edit the path to that location\n",
    "path = f\"{getcwd()}/../tmp2/mnist.npz\""
   ]
  },
  {
   "cell_type": "code",
   "execution_count": 2,
   "metadata": {},
   "outputs": [],
   "source": [
    "config = tf.ConfigProto()\n",
    "config.gpu_options.allow_growth = True\n",
    "sess = tf.Session(config=config)"
   ]
  },
  {
   "cell_type": "code",
   "execution_count": 3,
   "metadata": {},
   "outputs": [],
   "source": [
    "# GRADED FUNCTION: train_mnist_conv\n",
    "def train_mnist_conv():\n",
    "    # Please write your code only where you are indicated.\n",
    "    # please do not remove model fitting inline comments.\n",
    "\n",
    "    # YOUR CODE STARTS HERE\n",
    "    class myCallback(tf.keras.callbacks.Callback):\n",
    "        def on_epoch_end(self, epoch, logs={}):\n",
    "            if(logs.get('acc')>0.998):\n",
    "                print('\\nReached 99.8% accuracy so cancelling training!')\n",
    "                self.model.stop_training = True\n",
    "        \n",
    "    # YOUR CODE STARTS HERE\n",
    "    \n",
    "    mnist = tf.keras.datasets.mnist\n",
    "    (training_images, training_labels), (test_images, test_labels) = mnist.load_data(path=path)\n",
    "    \n",
    "    print('training images: ', training_images.shape)\n",
    "    print('training labels: ', training_labels.shape)\n",
    "    print('test images: ', test_images.shape)\n",
    "    print('test labels: ', test_labels.shape)\n",
    "    \n",
    "    training_images = training_images.reshape(60000, 28, 28, 1)\n",
    "    test_images = test_images.reshape(10000, 28, 28, 1)\n",
    "    \n",
    "    print('training images reshape: ', training_images.shape)\n",
    "    print('training labels reshape: ', training_labels.shape)\n",
    "    print('test images reshape: ', test_images.shape)\n",
    "    print('test labels reshape: ', test_labels.shape)\n",
    "    \n",
    "    training_images = training_images/ 255.0\n",
    "    test_images = test_images/ 255.0\n",
    "    \n",
    "    callbacks = myCallback()\n",
    "    \n",
    "    model = tf.keras.models.Sequential([\n",
    "        tf.keras.layers.Conv2D(64, 3, activation='relu', padding='same',\n",
    "                              input_shape=[28, 28, 1]),\n",
    "        tf.keras.layers.MaxPooling2D(2),\n",
    "        tf.keras.layers.Flatten(),\n",
    "        tf.keras.layers.Dense(512, activation='relu'),\n",
    "        tf.keras.layers.Dense(10, activation='softmax')             \n",
    "    ])\n",
    "    \n",
    "    model.compile(loss=['sparse_categorical_crossentropy'],                 \n",
    "                  optimizer='sgd', metrics=['accuracy'])\n",
    "    \n",
    "    model.summary()\n",
    "    history=model.fit(training_images, training_labels, epochs=20, callbacks=[callbacks])\n",
    "    test_loss, test_acc=model.evaluate(test_images, test_labels)\n",
    "\n",
    "    return history.epoch, history.history['acc'][-1]"
   ]
  },
  {
   "cell_type": "code",
   "execution_count": 4,
   "metadata": {},
   "outputs": [
    {
     "name": "stdout",
     "output_type": "stream",
     "text": [
      "training images:  (60000, 28, 28)\n",
      "training labels:  (60000,)\n",
      "test images:  (10000, 28, 28)\n",
      "test labels:  (10000,)\n",
      "training images reshape:  (60000, 28, 28, 1)\n",
      "training labels reshape:  (60000,)\n",
      "test images reshape:  (10000, 28, 28, 1)\n",
      "test labels reshape:  (10000,)\n"
     ]
    },
    {
     "name": "stderr",
     "output_type": "stream",
     "text": [
      "WARNING: Logging before flag parsing goes to stderr.\n",
      "W0907 02:09:09.249574 140253826467648 deprecation.py:506] From /usr/local/lib/python3.6/dist-packages/tensorflow/python/ops/init_ops.py:1251: calling VarianceScaling.__init__ (from tensorflow.python.ops.init_ops) with dtype is deprecated and will be removed in a future version.\n",
      "Instructions for updating:\n",
      "Call initializer instance with the dtype argument instead of passing it to the constructor\n"
     ]
    },
    {
     "name": "stdout",
     "output_type": "stream",
     "text": [
      "Model: \"sequential\"\n",
      "_________________________________________________________________\n",
      "Layer (type)                 Output Shape              Param #   \n",
      "=================================================================\n",
      "conv2d (Conv2D)              (None, 28, 28, 64)        640       \n",
      "_________________________________________________________________\n",
      "max_pooling2d (MaxPooling2D) (None, 14, 14, 64)        0         \n",
      "_________________________________________________________________\n",
      "flatten (Flatten)            (None, 12544)             0         \n",
      "_________________________________________________________________\n",
      "dense (Dense)                (None, 512)               6423040   \n",
      "_________________________________________________________________\n",
      "dense_1 (Dense)              (None, 10)                5130      \n",
      "=================================================================\n",
      "Total params: 6,428,810\n",
      "Trainable params: 6,428,810\n",
      "Non-trainable params: 0\n",
      "_________________________________________________________________\n",
      "Epoch 1/20\n",
      "60000/60000 [==============================] - 18s 298us/sample - loss: 0.4510 - acc: 0.8820\n",
      "Epoch 2/20\n",
      "60000/60000 [==============================] - 14s 237us/sample - loss: 0.1992 - acc: 0.9411\n",
      "Epoch 3/20\n",
      "60000/60000 [==============================] - 15s 243us/sample - loss: 0.1466 - acc: 0.9568\n",
      "Epoch 4/20\n",
      "60000/60000 [==============================] - 14s 238us/sample - loss: 0.1165 - acc: 0.9656\n",
      "Epoch 5/20\n",
      "60000/60000 [==============================] - 14s 240us/sample - loss: 0.0980 - acc: 0.9706\n",
      "Epoch 6/20\n",
      "60000/60000 [==============================] - 14s 237us/sample - loss: 0.0836 - acc: 0.9749\n",
      "Epoch 7/20\n",
      "60000/60000 [==============================] - 14s 233us/sample - loss: 0.0740 - acc: 0.9780\n",
      "Epoch 8/20\n",
      "60000/60000 [==============================] - 14s 228us/sample - loss: 0.0655 - acc: 0.9801\n",
      "Epoch 9/20\n",
      "60000/60000 [==============================] - 14s 229us/sample - loss: 0.0594 - acc: 0.9821\n",
      "Epoch 10/20\n",
      "60000/60000 [==============================] - 15s 243us/sample - loss: 0.0539 - acc: 0.9839 - l\n",
      "Epoch 11/20\n",
      "60000/60000 [==============================] - 14s 230us/sample - loss: 0.0485 - acc: 0.9852\n",
      "Epoch 12/20\n",
      "60000/60000 [==============================] - 14s 237us/sample - loss: 0.0448 - acc: 0.9863\n",
      "Epoch 13/20\n",
      "60000/60000 [==============================] - 13s 223us/sample - loss: 0.0410 - acc: 0.9875\n",
      "Epoch 14/20\n",
      "60000/60000 [==============================] - 14s 227us/sample - loss: 0.0378 - acc: 0.9885\n",
      "Epoch 15/20\n",
      "60000/60000 [==============================] - 13s 220us/sample - loss: 0.0349 - acc: 0.9895\n",
      "Epoch 16/20\n",
      "60000/60000 [==============================] - 14s 230us/sample - loss: 0.0326 - acc: 0.9902\n",
      "Epoch 17/20\n",
      "60000/60000 [==============================] - 14s 230us/sample - loss: 0.0300 - acc: 0.9910\n",
      "Epoch 18/20\n",
      "60000/60000 [==============================] - 14s 227us/sample - loss: 0.0279 - acc: 0.9919\n",
      "Epoch 19/20\n",
      "60000/60000 [==============================] - 14s 227us/sample - loss: 0.0258 - acc: 0.9926\n",
      "Epoch 20/20\n",
      "60000/60000 [==============================] - 14s 235us/sample - loss: 0.0237 - acc: 0.9931\n",
      "10000/10000 [==============================] - 2s 151us/sample - loss: 0.0495 - acc: 0.9839\n"
     ]
    }
   ],
   "source": [
    "_, _ = train_mnist_conv()\n",
    "#train_mnist_conv()"
   ]
  },
  {
   "cell_type": "code",
   "execution_count": null,
   "metadata": {},
   "outputs": [],
   "source": [
    "# Now click the 'Submit Assignment' button above.\n",
    "# Once that is complete, please run the following two cells to save your work and close the notebook"
   ]
  },
  {
   "cell_type": "code",
   "execution_count": null,
   "metadata": {},
   "outputs": [],
   "source": [
    "%%javascript\n",
    "<!-- Save the notebook -->\n",
    "IPython.notebook.save_checkpoint();"
   ]
  },
  {
   "cell_type": "code",
   "execution_count": null,
   "metadata": {},
   "outputs": [],
   "source": [
    "%%javascript\n",
    "IPython.notebook.session.delete();\n",
    "window.onbeforeunload = null\n",
    "setTimeout(function() { window.close(); }, 1000);"
   ]
  }
 ],
 "metadata": {
  "coursera": {
   "course_slug": "introduction-tensorflow",
   "graded_item_id": "ml06H",
   "launcher_item_id": "hQF8A"
  },
  "kernelspec": {
   "display_name": "Python 3",
   "language": "python",
   "name": "python3"
  },
  "language_info": {
   "codemirror_mode": {
    "name": "ipython",
    "version": 3
   },
   "file_extension": ".py",
   "mimetype": "text/x-python",
   "name": "python",
   "nbconvert_exporter": "python",
   "pygments_lexer": "ipython3",
   "version": "3.6.8"
  }
 },
 "nbformat": 4,
 "nbformat_minor": 1
}
