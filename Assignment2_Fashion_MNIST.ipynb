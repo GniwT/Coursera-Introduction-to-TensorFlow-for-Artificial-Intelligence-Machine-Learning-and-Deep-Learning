{
 "cells": [
  {
   "cell_type": "markdown",
   "metadata": {
    "colab_type": "text",
    "id": "tOoyQ70H00_s"
   },
   "source": [
    "## Exercise 2\n",
    "In the course you learned how to do classificaiton using Fashion MNIST, a data set containing items of clothing. There's another, similar dataset called MNIST which has items of handwriting -- the digits 0 through 9.\n",
    "\n",
    "Write an MNIST classifier that trains to 99% accuracy or above, and does it without a fixed number of epochs -- i.e. you should stop training once you reach that level of accuracy.\n",
    "\n",
    "Some notes:\n",
    "1. It should succeed in less than 10 epochs, so it is okay to change epochs= to 10, but nothing larger\n",
    "2. When it reaches 99% or greater it should print out the string \"Reached 99% accuracy so cancelling training!\"\n",
    "3. If you add any additional variables, make sure you use the same names as the ones used in the class\n",
    "\n",
    "I've started the code for you below -- how would you finish it? "
   ]
  },
  {
   "cell_type": "code",
   "execution_count": 1,
   "metadata": {},
   "outputs": [],
   "source": [
    "import tensorflow as tf\n",
    "from os import path, getcwd, chdir\n",
    "\n",
    "# DO NOT CHANGE THE LINE BELOW. If you are developing in a local\n",
    "# environment, then grab mnist.npz from the Coursera Jupyter Notebook\n",
    "# and place it inside a local folder and edit the path to that location\n",
    "path = f\"{getcwd()}/../tmp2/mnist.npz\""
   ]
  },
  {
   "cell_type": "code",
   "execution_count": 2,
   "metadata": {
    "colab": {},
    "colab_type": "code",
    "id": "9rvXQGAA0ssC"
   },
   "outputs": [],
   "source": [
    "# GRADED FUNCTION: train_mnist\n",
    "\n",
    "\n",
    "def train_mnist():\n",
    "    # Please write your code only where you are indicated.\n",
    "    # please do not remove # model fitting inline comments.\n",
    "\n",
    "    # YOUR CODE SHOULD START HERE\n",
    "    class myCallback(tf.keras.callbacks.Callback):\n",
    "        def on_epoch_end(self, epoch, logs={}):\n",
    "            if(logs.get('acc')>0.99):\n",
    "                print('\\nReached 99% accuracy so cancelling training')\n",
    "                self.model.stop_training = True\n",
    "\n",
    "    # YOUR CODE SHOULD END HERE\n",
    "    mnist = tf.keras.datasets.mnist\n",
    "\n",
    "    # YOUR CODE SHOULD START HERE\n",
    "    (X_train, y_train), (X_test, y_test) = mnist.load_data(path=path)\n",
    "\n",
    "    # YOUR CODE SHOULD END HERE\n",
    "    print('X_train: ', X_train.shape)\n",
    "    print('y_train: ', y_train.shape)\n",
    "    \n",
    "    print('X_test: ', X_test.shape)\n",
    "    print('y_test: ', y_test.shape)\n",
    "\n",
    "        # YOUR CODE SHOULD START HERE\n",
    "    X_train = X_train/ 255.0\n",
    "    X_test = X_test/ 255.0\n",
    "\n",
    "        # YOUR CODE SHOULD END HERE\n",
    "    callbacks = myCallback()\n",
    "    \n",
    "    # model fitting\n",
    "    model = tf.keras.models.Sequential([\n",
    "        tf.keras.layers.Flatten(input_shape=(28,28)),\n",
    "        tf.keras.layers.Dense(300, activation='relu'),\n",
    "        tf.keras.layers.Dense(100, activation='relu'),\n",
    "        tf.keras.layers.Dense(10, activation='softmax')\n",
    "    ])\n",
    "    \n",
    "    # YOUR CODE SHOULD START HERE\n",
    "    model.compile(loss='sparse_categorical_crossentropy',\n",
    "                 optimizer='sgd',\n",
    "                 metrics=['accuracy'])\n",
    "        \n",
    "    # YOUR CODE SHOULD END HERE\n",
    "    history=model.fit(X_train, y_train, epochs=30,\n",
    "                     validation_data=(X_test, y_test), callbacks=[callbacks])\n",
    "    \n",
    "    return history.epoch, history.history['acc'][-1]\n"
   ]
  },
  {
   "cell_type": "code",
   "execution_count": 3,
   "metadata": {
    "colab": {},
    "colab_type": "code",
    "id": "9rvXQGAA0ssC"
   },
   "outputs": [
    {
     "name": "stdout",
     "output_type": "stream",
     "text": [
      "X_train:  (60000, 28, 28)\n",
      "y_train:  (60000,)\n",
      "X_test:  (10000, 28, 28)\n",
      "y_test:  (10000,)\n"
     ]
    },
    {
     "name": "stderr",
     "output_type": "stream",
     "text": [
      "WARNING: Logging before flag parsing goes to stderr.\n",
      "W0906 22:25:12.361681 140412913727296 deprecation.py:506] From /usr/local/lib/python3.6/dist-packages/tensorflow/python/ops/init_ops.py:1251: calling VarianceScaling.__init__ (from tensorflow.python.ops.init_ops) with dtype is deprecated and will be removed in a future version.\n",
      "Instructions for updating:\n",
      "Call initializer instance with the dtype argument instead of passing it to the constructor\n"
     ]
    },
    {
     "name": "stdout",
     "output_type": "stream",
     "text": [
      "Train on 60000 samples, validate on 10000 samples\n",
      "Epoch 1/30\n",
      "60000/60000 [==============================] - 12s 207us/sample - loss: 0.5903 - acc: 0.8493 - val_loss: 0.3037 - val_acc: 0.9139\n",
      "Epoch 2/30\n",
      "60000/60000 [==============================] - 11s 185us/sample - loss: 0.2810 - acc: 0.9193 - val_loss: 0.2456 - val_acc: 0.9301\n",
      "Epoch 3/30\n",
      "60000/60000 [==============================] - 12s 202us/sample - loss: 0.2293 - acc: 0.9349 - val_loss: 0.2055 - val_acc: 0.9401\n",
      "Epoch 4/30\n",
      "60000/60000 [==============================] - 12s 203us/sample - loss: 0.1948 - acc: 0.9445 - val_loss: 0.1776 - val_acc: 0.9479\n",
      "Epoch 5/30\n",
      "60000/60000 [==============================] - 12s 198us/sample - loss: 0.1690 - acc: 0.9518 - val_loss: 0.1565 - val_acc: 0.9544\n",
      "Epoch 6/30\n",
      "60000/60000 [==============================] - 12s 205us/sample - loss: 0.1488 - acc: 0.9575 - val_loss: 0.1429 - val_acc: 0.9577\n",
      "Epoch 7/30\n",
      "60000/60000 [==============================] - 12s 203us/sample - loss: 0.1327 - acc: 0.9625 - val_loss: 0.1270 - val_acc: 0.9624\n",
      "Epoch 8/30\n",
      "60000/60000 [==============================] - 12s 203us/sample - loss: 0.1192 - acc: 0.9660 - val_loss: 0.1187 - val_acc: 0.9640\n",
      "Epoch 9/30\n",
      "60000/60000 [==============================] - 12s 203us/sample - loss: 0.1082 - acc: 0.9688 - val_loss: 0.1132 - val_acc: 0.9659\n",
      "Epoch 10/30\n",
      "60000/60000 [==============================] - 12s 203us/sample - loss: 0.0986 - acc: 0.9720 - val_loss: 0.1056 - val_acc: 0.9682s: 0.0995 \n",
      "Epoch 11/30\n",
      "60000/60000 [==============================] - 12s 203us/sample - loss: 0.0905 - acc: 0.9741 - val_loss: 0.0995 - val_acc: 0.9697\n",
      "Epoch 12/30\n",
      "60000/60000 [==============================] - 12s 207us/sample - loss: 0.0833 - acc: 0.9770 - val_loss: 0.0948 - val_acc: 0.9718\n",
      "Epoch 13/30\n",
      "60000/60000 [==============================] - 12s 205us/sample - loss: 0.0766 - acc: 0.9784 - val_loss: 0.0898 - val_acc: 0.9727\n",
      "Epoch 14/30\n",
      "60000/60000 [==============================] - 12s 205us/sample - loss: 0.0712 - acc: 0.9799 - val_loss: 0.0885 - val_acc: 0.9736\n",
      "Epoch 15/30\n",
      "60000/60000 [==============================] - 12s 206us/sample - loss: 0.0662 - acc: 0.9816 - val_loss: 0.0837 - val_acc: 0.9745\n",
      "Epoch 16/30\n",
      "60000/60000 [==============================] - 12s 207us/sample - loss: 0.0617 - acc: 0.9825 - val_loss: 0.0818 - val_acc: 0.9759\n",
      "Epoch 17/30\n",
      "60000/60000 [==============================] - 12s 205us/sample - loss: 0.0576 - acc: 0.9845 - val_loss: 0.0802 - val_acc: 0.9752\n",
      "Epoch 18/30\n",
      "60000/60000 [==============================] - 12s 207us/sample - loss: 0.0539 - acc: 0.9854 - val_loss: 0.0782 - val_acc: 0.9768\n",
      "Epoch 19/30\n",
      "60000/60000 [==============================] - 13s 213us/sample - loss: 0.0506 - acc: 0.9866 - val_loss: 0.0760 - val_acc: 0.9780\n",
      "Epoch 20/30\n",
      "60000/60000 [==============================] - 12s 203us/sample - loss: 0.0472 - acc: 0.9877 - val_loss: 0.0724 - val_acc: 0.9782\n",
      "Epoch 21/30\n",
      "60000/60000 [==============================] - 12s 195us/sample - loss: 0.0444 - acc: 0.9884 - val_loss: 0.0716 - val_acc: 0.9785\n",
      "Epoch 22/30\n",
      "60000/60000 [==============================] - 12s 198us/sample - loss: 0.0418 - acc: 0.9893 - val_loss: 0.0702 - val_acc: 0.9795\n",
      "Epoch 23/30\n",
      "60000/60000 [==============================] - 12s 192us/sample - loss: 0.0393 - acc: 0.9899 - val_loss: 0.0680 - val_acc: 0.9799\n",
      "Epoch 24/30\n",
      "59616/60000 [============================>.] - ETA: 0s - loss: 0.0369 - acc: 0.9908\n",
      "Reached 99% accuracy so cancelling training\n",
      "60000/60000 [==============================] - 12s 195us/sample - loss: 0.0370 - acc: 0.9908 - val_loss: 0.0677 - val_acc: 0.9791\n"
     ]
    },
    {
     "data": {
      "text/plain": [
       "([0,\n",
       "  1,\n",
       "  2,\n",
       "  3,\n",
       "  4,\n",
       "  5,\n",
       "  6,\n",
       "  7,\n",
       "  8,\n",
       "  9,\n",
       "  10,\n",
       "  11,\n",
       "  12,\n",
       "  13,\n",
       "  14,\n",
       "  15,\n",
       "  16,\n",
       "  17,\n",
       "  18,\n",
       "  19,\n",
       "  20,\n",
       "  21,\n",
       "  22,\n",
       "  23],\n",
       " 0.99081665)"
      ]
     },
     "execution_count": 3,
     "metadata": {},
     "output_type": "execute_result"
    }
   ],
   "source": [
    "train_mnist()"
   ]
  },
  {
   "cell_type": "code",
   "execution_count": null,
   "metadata": {},
   "outputs": [],
   "source": [
    "# Now click the 'Submit Assignment' button above.\n",
    "# Once that is complete, please run the following two cells to save your work and close the notebook"
   ]
  },
  {
   "cell_type": "code",
   "execution_count": null,
   "metadata": {},
   "outputs": [],
   "source": [
    "%%javascript\n",
    "<!-- Save the notebook -->\n",
    "IPython.notebook.save_checkpoint();"
   ]
  },
  {
   "cell_type": "code",
   "execution_count": null,
   "metadata": {},
   "outputs": [],
   "source": [
    "%%javascript\n",
    "IPython.notebook.session.delete();\n",
    "window.onbeforeunload = null\n",
    "setTimeout(function() { window.close(); }, 1000);"
   ]
  }
 ],
 "metadata": {
  "coursera": {
   "course_slug": "introduction-tensorflow",
   "graded_item_id": "d6dew",
   "launcher_item_id": "FExZ4"
  },
  "kernelspec": {
   "display_name": "Python 3",
   "language": "python",
   "name": "python3"
  },
  "language_info": {
   "codemirror_mode": {
    "name": "ipython",
    "version": 3
   },
   "file_extension": ".py",
   "mimetype": "text/x-python",
   "name": "python",
   "nbconvert_exporter": "python",
   "pygments_lexer": "ipython3",
   "version": "3.6.8"
  }
 },
 "nbformat": 4,
 "nbformat_minor": 1
}
